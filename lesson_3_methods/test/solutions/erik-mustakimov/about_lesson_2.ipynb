{
  "cells": [
    {
      "cell_type": "markdown",
      "metadata": {},
      "source": [
        "Блок 1.1: Робот с историей состояний (0.2 балла)"
      ]
    },
    {
      "cell_type": "code",
      "execution_count": null,
      "metadata": {
        "vscode": {
          "languageId": "plaintext"
        }
      },
      "outputs": [],
      "source": [
        "class Robot:\n",
        "    def __init__(self, name, x=0, y=0):\n",
        "        self.name = name\n",
        "        self.x = x\n",
        "        self.y = y\n",
        "        self.history = [(x, y)]  # сохраняем стартовую позицию\n",
        "\n",
        "    def command(self, cmd):\n",
        "        \"\"\"Выполняет команду: 'up', 'down', 'left', 'right'\"\"\"\n",
        "        if cmd == \"up\":\n",
        "            self.y += 1\n",
        "        elif cmd == \"down\":\n",
        "            self.y -= 1\n",
        "        elif cmd == \"left\":\n",
        "            self.x -= 1\n",
        "        elif cmd == \"right\":\n",
        "            self.x += 1\n",
        "        else:\n",
        "            print(f\"Неизвестная команда: {cmd}\")\n",
        "            return\n",
        "        self.history.append((self.x, self.y))  # фиксируем новую позицию\n",
        "\n",
        "    def show_history(self):\n",
        "        \"\"\"Показывает всю историю движения\"\"\"\n",
        "        print(\"История движения робота:\")\n",
        "        for step in self.history:\n",
        "            print(step)"
      ]
    },
    {
      "cell_type": "markdown",
      "metadata": {},
      "source": [
        "Блок 1.2 "
      ]
    },
    {
      "cell_type": "code",
      "execution_count": null,
      "metadata": {
        "vscode": {
          "languageId": "plaintext"
        }
      },
      "outputs": [],
      "source": [
        "import matplotlib.pyplot as plt\n",
        "\n",
        "def plot_robot_path(robot):\n",
        "    \"\"\"Рисует график пути робота\"\"\"\n",
        "    if not robot.history:\n",
        "        print(\"История пуста!\")\n",
        "        return\n",
        "\n",
        "    x_coords = [pos[0] for pos in robot.history]\n",
        "    y_coords = [pos[1] for pos in robot.history]\n",
        "\n",
        "    plt.figure(figsize=(8, 6))\n",
        "    plt.plot(x_coords, y_coords, 'b-o')\n",
        "    plt.title(f\"Путь робота {robot.name}\")\n",
        "    plt.grid(True)\n",
        "    plt.xlabel(\"X координата\")\n",
        "    plt.ylabel(\"Y координата\")\n",
        "    plt.show()"
      ]
    },
    {
      "cell_type": "code",
      "execution_count": null,
      "metadata": {
        "vscode": {
          "languageId": "plaintext"
        }
      },
      "outputs": [],
      "source": [
        "Блок 2.1"
      ]
    }
  ],
  "metadata": {
    "language_info": {
      "name": "python"
    }
  },
  "nbformat": 4,
  "nbformat_minor": 2
}
