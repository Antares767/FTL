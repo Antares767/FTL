{
 "cells": [
  {
   "cell_type": "code",
   "execution_count": null,
   "id": "ec0af907",
   "metadata": {},
   "outputs": [
    {
     "name": "stdout",
     "output_type": "stream",
     "text": [
      "🧪 ТЕСТ 1.1: История состояний\n",
      "📜 История движения Тест:\n",
      "  Шаг 0: (0, 0)\n",
      "  Шаг 1: (1, 0)\n",
      "  Шаг 2: (2, 0)\n",
      "  Шаг 3: (2, 1)\n",
      "✅ ТЕСТ ПРОЙДЕН: История корректна\n",
      "✅ ДОПОЛНИТЕЛЬНЫЙ ТЕСТ ПРОЙДЕН: Возврат в исходную точку\n"
     ]
    }
   ],
   "source": [
    "class Robot:\n",
    "    def __init__(self, name, x=0, y=0):\n",
    "        self.name = name\n",
    "        self.x = x\n",
    "        self.y = y\n",
    "        self.history = []  \n",
    "       \n",
    "        self.history.append((self.x, self.y))\n",
    "        \n",
    "    def command(self, cmd):\n",
    "        \"\"\"Выполняет команду: 'up', 'down', 'left', 'right'\"\"\"\n",
    "        if cmd == \"up\":\n",
    "            self.y += 1\n",
    "        elif cmd == \"down\":\n",
    "            self.y -= 1\n",
    "        elif cmd == \"left\":\n",
    "            self.x -= 1\n",
    "        elif cmd == \"right\":\n",
    "            self.x += 1\n",
    "        else:\n",
    "            print(f\"❓ Неизвестная команда: {cmd}\")\n",
    "            return\n",
    "        \n",
    "\n",
    "        self.history.append((self.x, self.y))\n",
    "    \n",
    "    def show_history(self):\n",
    "        \"\"\"Показывает всю историю движения\"\"\"\n",
    "        print(f\"📜 История движения {self.name}:\")\n",
    "        for i, pos in enumerate(self.history):\n",
    "            print(f\"  Шаг {i}: {pos}\")\n",
    "\n",
    "# Тест в ячейке:\n",
    "print(\"🧪 ТЕСТ 1.1: История состояний\")\n",
    "robot = Robot(\"Тест\", 0, 0)\n",
    "robot.command(\"right\")\n",
    "robot.command(\"right\") \n",
    "robot.command(\"up\")\n",
    "robot.show_history()\n",
    "\n",
    "# Автоматическая проверка результата:\n",
    "expected_history = [(0,0), (1,0), (2,0), (2,1)]\n",
    "if robot.history == expected_history:\n",
    "    print(\"✅ ТЕСТ ПРОЙДЕН: История корректна\")\n",
    "else:\n",
    "    print(f\"❌ ТЕСТ НЕ ПРОЙДЕН: Ожидалось {expected_history}, получено {robot.history}\")\n",
    "\n",
    "# Дополнительный тест - возврат домой:\n",
    "robot2 = Robot(\"Тест2\", 5, 3)\n",
    "robot2.command(\"left\")\n",
    "robot2.command(\"down\") \n",
    "robot2.command(\"right\")\n",
    "robot2.command(\"up\")\n",
    "\n",
    "expected_history2 = [(5,3), (4,3), (4,2), (5,2), (5,3)]\n",
    "if robot2.history == expected_history2:\n",
    "    print(\"✅ ДОПОЛНИТЕЛЬНЫЙ ТЕСТ ПРОЙДЕН: Возврат в исходную точку\")\n",
    "else:\n",
    "    print(f\"❌ ДОПОЛНИТЕЛЬНЫЙ ТЕСТ НЕ ПРОЙДЕН: Ожидалось {expected_history2}, получено {robot2.history}\")\n"
   ]
  },
  {
   "cell_type": "code",
   "execution_count": null,
   "id": "d0d1b640",
   "metadata": {},
   "outputs": [
    {
     "name": "stdout",
     "output_type": "stream",
     "text": [
      "\n",
      "🧪 ТЕСТ 1.2: Визуализация пути\n"
     ]
    },
    {
     "data": {
      "image/png": "[encoded data removed]",
      "text/plain": [
       "<Figure size 800x600 with 1 Axes>"
      ]
     },
     "metadata": {},
     "output_type": "display_data"
    },
    {
     "name": "stdout",
     "output_type": "stream",
     "text": [
      "x_coords = [0, 1, 3]\n",
      "y_coords = [0, 2, 1]\n"
     ]
    }
   ],
   "source": [
    "import matplotlib.pyplot as plt\n",
    "\n",
    "def plot_robot_path(robot):\n",
    "    \"\"\"Рисует график пути робота\"\"\"\n",
    "    if not robot.history:\n",
    "        print(\"История пуста!\")\n",
    "        return\n",
    "    \n",
    "  \n",
    "    x_coords = [pos[0] for pos in robot.history]\n",
    "    y_coords = [pos[1] for pos in robot.history]\n",
    "    \n",
    "    plt.figure(figsize=(8, 6))\n",
    "\n",
    "    plt.plot(x_coords, y_coords, 'b-o')  # синяя линия с точками\n",
    "    plt.title(f\"Путь робота {robot.name}\")\n",
    "    plt.grid(True)\n",
    "    plt.xlabel(\"X координата\")\n",
    "    plt.ylabel(\"Y координата\")\n",
    "    plt.show()\n",
    "\n",
    "# Тест:\n",
    "print(\"\\n🧪 ТЕСТ 1.2: Визуализация пути\")\n",
    "plot_robot_path(robot)\n",
    "\n",
    "# Проверка извлечения координат:\n",
    "test_history = [(0,0), (1,2), (3,1)]\n",
    "x_coords = [pos[0] for pos in test_history]\n",
    "y_coords = [pos[1] for pos in test_history]\n",
    "\n",
    "print(\"x_coords =\", x_coords)  # ожидаем [0, 1, 3]\n",
    "print(\"y_coords =\", y_coords)  # ожидаем [0, 2, 1]\n"
   ]
  },
  {
   "cell_type": "code",
   "execution_count": 5,
   "id": "152d3415",
   "metadata": {},
   "outputs": [
    {
     "name": "stdout",
     "output_type": "stream",
     "text": [
      "north+east -> ['north', 'east']\n",
      "forward_turn_right -> ['forward', 'turn', 'right']\n"
     ]
    }
   ],
   "source": [
    "command = \"north+east\"\n",
    "parts = command.split(\"+\")\n",
    "\n",
    "print(command, '->', parts)  # ['north', 'east']\n",
    "\n",
    "mission = \"forward_turn_right\"  \n",
    "actions = mission.split(\"_\")\n",
    "print(mission, '->', actions)  # ['forward', 'turn', 'right']"
   ]
  },
  {
   "cell_type": "code",
   "execution_count": null,
   "id": "26630b48",
   "metadata": {},
   "outputs": [],
   "source": [
    "def parse_combo_command(self, combo_cmd):\n",
    "    \"\"\"\n",
    "    Разбирает комбинированную команду на простые с валидацией\n",
    "    'north+east' → ['up', 'right']\n",
    "    'south+west' → ['down', 'left']\n",
    "    Возвращает список команд или None при ошибке\n",
    "    \"\"\"\n",
    "    # Словарь перевода команд\n",
    "    direction_map = {\n",
    "        'north': 'up',\n",
    "        'south': 'down', \n",
    "        'west': 'left',\n",
    "        'east': 'right'\n",
    "    }\n",
    "    \n",
    "    # Проверка наличия разделителя\n",
    "    if \"+\" not in combo_cmd:\n",
    "        # TODO: проверить, является ли команда одиночной валидной\n",
    "        # если combo_cmd в direction_map, вернуть [direction_map[combo_cmd]]\n",
    "        # иначе вернуть None\n",
    "        pass\n",
    "    \n",
    "    # TODO: разбить команду через split(\"+\")\n",
    "    # TODO: проверить, что частей ровно 2\n",
    "    # TODO: проверить, что обе части есть в direction_map\n",
    "    # TODO: вернуть список переведенных команд или None при ошибке\n",
    "    \n",
    "# Добавить метод в класс Robot\n",
    "\n",
    "# Тесты:\n",
    "print(\"\\n🧪 ТЕСТ 2.1: Разбор комбинированных команд\")\n",
    "\n",
    "robot = Robot(\"Парсер\")\n",
    "\n",
    "# Тест 1: Валидная комбинированная команда\n",
    "result1 = robot.parse_combo_command(\"north+east\")\n",
    "expected1 = ['up', 'right']\n",
    "if result1 == expected1:\n",
    "    print(\"✅ ТЕСТ 1 ПРОЙДЕН: north+east → ['up', 'right']\")\n",
    "else:\n",
    "    print(f\"❌ ТЕСТ 1 НЕ ПРОЙДЕН: Ожидалось {expected1}, получено {result1}\")\n",
    "\n",
    "# Тест 2: Валидная одиночная команда\n",
    "result2 = robot.parse_combo_command(\"west\")\n",
    "expected2 = ['left']\n",
    "if result2 == expected2:\n",
    "    print(\"✅ ТЕСТ 2 ПРОЙДЕН: west → ['left']\")\n",
    "else:\n",
    "    print(f\"❌ ТЕСТ 2 НЕ ПРОЙДЕН: Ожидалось {expected2}, получено {result2}\")\n",
    "\n",
    "# Тест 3: Невалидная команда\n",
    "result3 = robot.parse_combo_command(\"north+invalid\")\n",
    "expected3 = None\n",
    "if result3 == expected3:\n",
    "    print(\"✅ ТЕСТ 3 ПРОЙДЕН: Невалидная команда возвращает None\")\n",
    "else:\n",
    "    print(f\"❌ ТЕСТ 3 НЕ ПРОЙДЕН: Ожидалось {expected3}, получено {result3}\")\n",
    "\n",
    "# Тест 4: Слишком много частей\n",
    "result4 = robot.parse_combo_command(\"north+east+south\")\n",
    "expected4 = None\n",
    "if result4 == expected4:\n",
    "    print(\"✅ ТЕСТ 4 ПРОЙДЕН: Команда из 3 частей возвращает None\")\n",
    "else:\n",
    "    print(f\"❌ ТЕСТ 4 НЕ ПРОЙДЕН: Ожидалось {expected4}, получено {result4}\")\n",
    "\n",
    "# Тест 5: Команда без разделителя, но невалидная\n",
    "result5 = robot.parse_combo_command(\"invalid\")\n",
    "expected5 = None\n",
    "if result5 == expected5:\n",
    "    print(\"✅ ТЕСТ 5 ПРОЙДЕН: Невалидная одиночная команда возвращает None\")\n",
    "else:\n",
    "    print(f\"❌ ТЕСТ 5 НЕ ПРОЙДЕН: Ожидалось {expected5}, получено {result5}\")"
   ]
  }
 ],
 "metadata": {
  "kernelspec": {
   "display_name": "Python 3",
   "language": "python",
   "name": "python3"
  },
  "language_info": {
   "codemirror_mode": {
    "name": "ipython",
    "version": 3
   },
   "file_extension": ".py",
   "mimetype": "text/x-python",
   "name": "python",
   "nbconvert_exporter": "python",
   "pygments_lexer": "ipython3",
   "version": "3.13.0"
  }
 },
 "nbformat": 4,
 "nbformat_minor": 5
}
