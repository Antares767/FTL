{
 "cells": [
  {
   "cell_type": "code",
   "execution_count": 3,
   "id": "4fb2f56f",
   "metadata": {},
   "outputs": [
    {
     "name": "stdout",
     "output_type": "stream",
     "text": [
      "Привет, мир роботов!\n",
      "Да здравствуют братья наши меньшие!\n",
      "Имя робота: R2D2\n",
      "Возраст робота: 50 лет\n",
      "Мой робот: bro\n",
      "Его возраст: 10\n",
      "Заряд батареи: 90 %\n",
      "Заряд после работы: 65 %\n"
     ]
    }
   ],
   "source": [
    "# Блок 1.1: Знакомство с Python\n",
    "# Сегодня мы создадим наших первых роботов!\n",
    "\n",
    "# Это комментарий - компьютер его игнорирует, а люди читают\n",
    "\n",
    "# Давайте начнем с простого: научим компьютер \"говорить\"\n",
    "print(\"Привет, мир роботов!\")\n",
    "\n",
    "# TODO: Напишите свое приветствие роботам\n",
    "print(\"Да здравствуют братья наши меньшие!\")\n",
    "\n",
    "# Переменные - это \"ящики\" для хранения информации\n",
    "robot_name = \"R2D2\"\n",
    "robot_age = 50\n",
    "\n",
    "# Выводим информацию о роботе\n",
    "print(\"Имя робота:\", robot_name)\n",
    "print(\"Возраст робота:\", robot_age, \"лет\")\n",
    "\n",
    "# TODO: Создайте своего робота с именем и возрастом\n",
    "my_robot_name = \"bro\"\n",
    "my_robot_age = 10\n",
    "\n",
    "print(\"Мой робот:\", my_robot_name)\n",
    "print(\"Его возраст:\", my_robot_age)\n",
    "\n",
    "# Роботы умеют считать!\n",
    "battery_level = 100\n",
    "battery_level = battery_level - 10  # робот поработал\n",
    "print(\"Заряд батареи:\", battery_level, \"%\")\n",
    "\n",
    "# TODO: Уменьшите заряд еще на 25% и выведите результат\n",
    "battery_level = battery_level - 25\n",
    "print(\"Заряд после работы:\", battery_level, \"%\")"
   ]
  }
 ],
 "metadata": {
  "kernelspec": {
   "display_name": "Python 3",
   "language": "python",
   "name": "python3"
  },
  "language_info": {
   "codemirror_mode": {
    "name": "ipython",
    "version": 3
   },
   "file_extension": ".py",
   "mimetype": "text/x-python",
   "name": "python",
   "nbconvert_exporter": "python",
   "pygments_lexer": "ipython3",
   "version": "3.10.12"
  }
 },
 "nbformat": 4,
 "nbformat_minor": 5
}
