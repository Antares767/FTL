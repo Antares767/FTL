{
 "cells": [
  {
   "cell_type": "code",
<<<<<<< HEAD
   "execution_count": 3,
   "id": "4fb2f56f",
=======
   "execution_count": 2,
   "id": "ca8e220f",
   "metadata": {},
   "outputs": [
    {
     "name": "stdout",
     "output_type": "stream",
     "text": [
      "hello\n"
     ]
    }
   ],
   "source": [
    "print('hello')"
   ]
  },
  {
   "cell_type": "code",
   "execution_count": 1,
   "id": "ebdef493",
>>>>>>> 01061c44cfa0deeb1641bbf05b3dfdbb616fc40b
   "metadata": {},
   "outputs": [
    {
     "name": "stdout",
     "output_type": "stream",
     "text": [
      "Привет, мир роботов!\n",
<<<<<<< HEAD
      "Да здравствуют братья наши меньшие!\n",
      "Имя робота: R2D2\n",
      "Возраст робота: 50 лет\n",
      "Мой робот: bro\n",
      "Его возраст: 10\n",
      "Заряд батареи: 90 %\n",
      "Заряд после работы: 65 %\n"
=======
      "___ВАШЕ_СООБЩЕНИЕ___\n",
      "Имя робота: R2D2\n",
      "Возраст робота: 50 лет\n"
     ]
    },
    {
     "ename": "NameError",
     "evalue": "name '___ВОЗРАСТ___' is not defined",
     "output_type": "error",
     "traceback": [
      "\u001b[1;31m---------------------------------------------------------------------------\u001b[0m",
      "\u001b[1;31mNameError\u001b[0m                                 Traceback (most recent call last)",
      "Cell \u001b[1;32mIn[1], line 22\u001b[0m\n\u001b[0;32m     20\u001b[0m \u001b[38;5;66;03m# TODO: Создайте своего робота с именем и возрастом\u001b[39;00m\n\u001b[0;32m     21\u001b[0m my_robot_name \u001b[38;5;241m=\u001b[39m \u001b[38;5;124m\"\u001b[39m\u001b[38;5;124m___ВАШЕ_ИМЯ_РОБОТА___\u001b[39m\u001b[38;5;124m\"\u001b[39m\n\u001b[1;32m---> 22\u001b[0m my_robot_age \u001b[38;5;241m=\u001b[39m \u001b[43m___ВОЗРАСТ___\u001b[49m\n\u001b[0;32m     24\u001b[0m \u001b[38;5;28mprint\u001b[39m(\u001b[38;5;124m\"\u001b[39m\u001b[38;5;124mМой робот:\u001b[39m\u001b[38;5;124m\"\u001b[39m, my_robot_name)\n\u001b[0;32m     25\u001b[0m \u001b[38;5;28mprint\u001b[39m(\u001b[38;5;124m\"\u001b[39m\u001b[38;5;124mЕго возраст:\u001b[39m\u001b[38;5;124m\"\u001b[39m, my_robot_age)\n",
      "\u001b[1;31mNameError\u001b[0m: name '___ВОЗРАСТ___' is not defined"
>>>>>>> 01061c44cfa0deeb1641bbf05b3dfdbb616fc40b
     ]
    }
   ],
   "source": [
    "# Блок 1.1: Знакомство с Python\n",
    "# Сегодня мы создадим наших первых роботов!\n",
    "\n",
    "# Это комментарий - компьютер его игнорирует, а люди читают\n",
    "\n",
    "# Давайте начнем с простого: научим компьютер \"говорить\"\n",
    "print(\"Привет, мир роботов!\")\n",
    "\n",
    "# TODO: Напишите свое приветствие роботам\n",
<<<<<<< HEAD
    "print(\"Да здравствуют братья наши меньшие!\")\n",
=======
    "print(\"___ВАШЕ_СООБЩЕНИЕ___\")\n",
>>>>>>> 01061c44cfa0deeb1641bbf05b3dfdbb616fc40b
    "\n",
    "# Переменные - это \"ящики\" для хранения информации\n",
    "robot_name = \"R2D2\"\n",
    "robot_age = 50\n",
    "\n",
    "# Выводим информацию о роботе\n",
    "print(\"Имя робота:\", robot_name)\n",
    "print(\"Возраст робота:\", robot_age, \"лет\")\n",
    "\n",
    "# TODO: Создайте своего робота с именем и возрастом\n",
<<<<<<< HEAD
    "my_robot_name = \"bro\"\n",
    "my_robot_age = 10\n",
=======
    "my_robot_name = \"___ВАШЕ_ИМЯ_РОБОТА___\"\n",
    "my_robot_age = ___ВОЗРАСТ___\n",
>>>>>>> 01061c44cfa0deeb1641bbf05b3dfdbb616fc40b
    "\n",
    "print(\"Мой робот:\", my_robot_name)\n",
    "print(\"Его возраст:\", my_robot_age)\n",
    "\n",
    "# Роботы умеют считать!\n",
    "battery_level = 100\n",
    "battery_level = battery_level - 10  # робот поработал\n",
    "print(\"Заряд батареи:\", battery_level, \"%\")\n",
    "\n",
    "# TODO: Уменьшите заряд еще на 25% и выведите результат\n",
<<<<<<< HEAD
    "battery_level = battery_level - 25\n",
=======
    "battery_level = battery_level - ___\n",
>>>>>>> 01061c44cfa0deeb1641bbf05b3dfdbb616fc40b
    "print(\"Заряд после работы:\", battery_level, \"%\")"
   ]
  }
 ],
 "metadata": {
  "kernelspec": {
   "display_name": "Python 3",
   "language": "python",
   "name": "python3"
  },
  "language_info": {
   "codemirror_mode": {
    "name": "ipython",
    "version": 3
   },
   "file_extension": ".py",
   "mimetype": "text/x-python",
   "name": "python",
   "nbconvert_exporter": "python",
   "pygments_lexer": "ipython3",
<<<<<<< HEAD
   "version": "3.10.12"
=======
   "version": "3.12.10"
>>>>>>> 01061c44cfa0deeb1641bbf05b3dfdbb616fc40b
  }
 },
 "nbformat": 4,
 "nbformat_minor": 5
}
