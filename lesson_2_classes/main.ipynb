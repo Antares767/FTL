{
 "cells": [
  {
   "cell_type": "markdown",
   "id": "5a004580",
   "metadata": {},
   "source": [
    "## Урок 2: Классы (Python)\n",
    "\n",
    "Этот ноутбук содержит примеры наследования, инкапсуляции и полиморфизма.\n",
    "\n",
    "План:\n",
    "- Создадим простой класс `Point`.\n",
    "- Добавим методы и свойства.\n",
    "- Разберём наследование и переопределение методов.\n",
    "\n",
    "Подсказка: запускайте ячейки по порядку (Shift+Enter).\n"
   ]
  },
  {
   "cell_type": "code",
   "execution_count": null,
   "id": "f1b5f246",
   "metadata": {},
   "outputs": [],
   "source": [
    "from math import hypot\n",
    "from dataclasses import dataclass\n",
    "\n",
    "@dataclass\n",
    "class Point:\n",
    "    x: float\n",
    "    y: float\n",
    "\n",
    "    def __post_init__(self) -> None:\n",
    "        if not isinstance(self.x, (int, float)) or not isinstance(self.y, (int, float)):\n",
    "            raise TypeError(\"x и y должны быть числами\")\n",
    "\n",
    "    def move(self, dx: float, dy: float) -> None:\n",
    "        self.x += dx\n",
    "        self.y += dy\n",
    "\n",
    "    def distance_to(self, other: \"Point\") -> float:\n",
    "        return hypot(self.x - other.x, self.y - other.y)\n",
    "\n",
    "    @property\n",
    "    def magnitude(self) -> float:\n",
    "        return hypot(self.x, self.y)\n",
    "\n",
    "@dataclass\n",
    "class ColoredPoint(Point):\n",
    "    color: str = \"black\"\n",
    "\n",
    "    def __repr__(self) -> str:\n",
    "        return f\"ColoredPoint(x={self.x}, y={self.y}, color='{self.color}')\"\n",
    "\n",
    "# Демонстрация\n",
    "p1 = Point(0, 0)\n",
    "p2 = Point(3, 4)\n",
    "print(\"Исходные точки:\", p1, p2)\n",
    "print(\"Расстояние p1->p2:\", p1.distance_to(p2))\n",
    "print(\"Длина вектора p2 от начала координат:\", p2.magnitude)\n",
    "\n",
    "cp = ColoredPoint(1, 2, color=\"red\")\n",
    "print(cp)\n",
    "cp.move(2, -1)\n",
    "print(\"После смещения cp:\", cp)\n",
    "print(\"Расстояние cp->p2:\", cp.distance_to(p2))\n"
   ]
  }
 ],
 "metadata": {
  "language_info": {
   "name": "python"
  }
 },
 "nbformat": 4,
 "nbformat_minor": 5
}
