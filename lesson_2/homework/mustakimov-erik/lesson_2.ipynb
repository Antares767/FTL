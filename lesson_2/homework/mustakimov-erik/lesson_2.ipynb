{
 "cells": [
  {"cell_type": "markdown", "metadata": {}, "source": ["# Блок 1: Основы ООП"]},
  {"cell_type": "code", "metadata": {}, "source": ["class Part:\n    def __init__(self, name, price, quantity):\n        self.name = name\n        self.price = price\n        self.quantity = quantity\n    def __str__(self):\n        return f'Part(name={self.name}, price={self.price}, quantity={self.quantity})'\n    def get_total_price(self):\n        return self.price * self.quantity"]},

  {"cell_type": "markdown", "metadata": {}, "source": ["# Блок 2: Списки и циклы"]},
  {"cell_type": "code", "metadata": {}, "source": ["parts = [\n    Part('Screw', 0.5, 100),\n    Part('Nut', 0.3, 150),\n    Part('Bolt', 0.7, 200)\n]\ntotal_value = sum(part.get_total_price() for part in parts)\nprint(f'Total inventory value: {total_value}')"]},

  {"cell_type": "markdown", "metadata": {}, "source": ["# Блок 3: Словари и фильтрация"]},
  {"cell_type": "code", "metadata": {}, "source": ["parts_dict = {\n    'Screw': Part('Screw', 0.5, 100),\n    'Nut': Part('Nut', 0.3, 150),\n    'Bolt': Part('Bolt', 0.7, 200)\n}\nexpensive_parts = {name: part for name, part in parts_dict.items() if part.price > 0.6}\nprint('Expensive parts:', expensive_parts)"]},

  {"cell_type": "markdown", "metadata": {}, "source": ["# Блок 4: Наследование"]},
  {"cell_type": "code", "metadata": {}, "source": ["class Inventory(Part):\n    def __init__(self, name, price, quantity, location):\n        super().__init__(name, price, quantity)\n        self.location = location\n    def get_location(self):\n        return self.location\n\ninventory_item = Inventory('Drill', 15.0, 50, 'Warehouse A')\nprint(f'Inventory Item: {inventory_item}, Location: {inventory_item.get_location()}')"]}
 ],
 "metadata": {"kernelspec": {"display_name": "Python 3","language": "python","name": "python3"},
              "language_info": {"name": "python","version": "3.10"}},
 "nbformat": 4,
 "nbformat_minor": 5
}
