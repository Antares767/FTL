{
 "cells": [
  {"cell_type": "markdown", "metadata": {}, "source": ["# Решение 3.1"]},
  {"cell_type": "code", "metadata": {}, "source": ["# Код решения 3.1\nprint('Решение блока 3.1')"]},

  {"cell_type": "markdown", "metadata": {}, "source": ["# Решение 3.2"]},
  {"cell_type": "code", "metadata": {}, "source": ["# Код решения 3.2\nprint('Решение блока 3.2')"]},

  {"cell_type": "markdown", "metadata": {}, "source": ["# Решение 3.3"]},
  {"cell_type": "code", "metadata": {}, "source": ["# Код решения 3.3\nprint('Решение блока 3.3')"]},

  {"cell_type": "markdown", "metadata": {}, "source": ["# Решение 3.4"]},
  {"cell_type": "code", "metadata": {}, "source": ["# Код решения 3.4\nprint('Решение блока 3.4')"]},

  {"cell_type": "markdown", "metadata": {}, "source": ["# Решение 3.5"]},
  {"cell_type": "code", "metadata": {}, "source": ["# Код решения 3.5\nprint('Решение блока 3.5')"]}
 ],
 "metadata": {"kernelspec": {"display_name": "Python 3","language": "python","name": "python3"},
              "language_info": {"name": "python","version": "3.10"}},
 "nbformat": 4,
 "nbformat_minor": 5
}
